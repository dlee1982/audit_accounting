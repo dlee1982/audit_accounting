{
  "nbformat": 4,
  "nbformat_minor": 0,
  "metadata": {
    "colab": {
      "name": "High-Level Data Overview Tests - Part 2.ipynb",
      "provenance": [],
      "collapsed_sections": [],
      "authorship_tag": "ABX9TyOCKKR3KJY5cmeB99NGnl3D",
      "include_colab_link": true
    },
    "kernelspec": {
      "name": "python3",
      "display_name": "Python 3"
    },
    "language_info": {
      "name": "python"
    }
  },
  "cells": [
    {
      "cell_type": "markdown",
      "metadata": {
        "id": "view-in-github",
        "colab_type": "text"
      },
      "source": [
        "<a href=\"https://colab.research.google.com/github/dlee1982/audit_accounting/blob/main/High_Level_Data_Overview_Tests_Part_2.ipynb\" target=\"_parent\"><img src=\"https://colab.research.google.com/assets/colab-badge.svg\" alt=\"Open In Colab\"/></a>"
      ]
    },
    {
      "cell_type": "code",
      "execution_count": null,
      "metadata": {
        "id": "ukQoTMbtsqEF"
      },
      "outputs": [],
      "source": [
        "import pandas as pd\n",
        "import os"
      ]
    },
    {
      "cell_type": "code",
      "source": [
        "def read_files(file_name): \n",
        "    \"\"\"\n",
        "    read in the workbooks individual worksheets and combine into one csv file\n",
        "    \"\"\"\n",
        "    \n",
        "    #reads in the current workbook and all the worksheets into a dictionary\n",
        "    cur_read_file = pd.read_excel(file_name, sheet_name=None)\n",
        "    combined_file = pd.DataFrame()\n",
        "    \n",
        "    #reads in each worksheets and combines into one workbook\n",
        "    for sheet in cur_read_file: \n",
        "        cur_sheet = cur_read_file[f'{sheet}']\n",
        "        combined_file = pd.concat([cur_sheet, combined_file])\n",
        "        \n",
        "    return combined_file "
      ],
      "metadata": {
        "id": "D92QtzRUtDtn"
      },
      "execution_count": null,
      "outputs": []
    },
    {
      "cell_type": "code",
      "source": [
        "def data_profiling(return_series: pd.Series): \n",
        "  \"\"\"\n",
        "  profiles the data into distinct categories: \n",
        "  1. >= 50\n",
        "  2. >= 10 and <= 49.99: greater than or equal to 10 and less than or equal to 49.99\n",
        "  3. >= 0.01 and <= 9.99 : greater than or equal to 0.01 and less than or equal ot 9.99\n",
        "  4. = 0 : equal to 0\n",
        "  5. <= -0.01 and <= -9.99 : less than or equal to -0.01 and less than or equal to -9.99\n",
        "  6. <= -10 : less than or equal to -10\n",
        "  \"\"\"\n",
        "  \n",
        "  equal_50 = return_series[return_series >= 50].count()\n",
        "  equal_10_49 = return_series[(return_series >= 10) & (return_series <= 49.99)].count()\n",
        "  equal_1_9 = return_series[(return_series >= 0.01) & (return_series <= 9.99)].count() \n",
        "  equal_0 = return_series[return_series == 0].count()\n",
        "  equal_neg_9 = return_series[(return_series <= -0.01) & (return_series <= -9.99)].count()\n",
        "  equal_neg_10 = return_series[return_series <= -10].count()\n",
        "  totals = [equal_50, equal_10_49, equal_1_9, equal_0, equal_neg_9, equal_neg_10]\n",
        "  categories = ['>=50', '>= 10 and <= 49.99', '>= 0.01 and <= 9.99', '= 0', '<= -0.01 and <= -9.99', '<= -10']\n",
        "  return pd.DataFrame({'Categories': categories, 'Profile_Totals': totals})"
      ],
      "metadata": {
        "id": "Q1MbhzaGtwyN"
      },
      "execution_count": null,
      "outputs": []
    },
    {
      "cell_type": "code",
      "source": [
        "# imports each file in the current directory where vendor payment data is located\n",
        "files = os.listdir()\n",
        "v_files = [file for file in files if file[-16:] == \"Vendor_data.xlsx\"]\n",
        "v_files"
      ],
      "metadata": {
        "colab": {
          "base_uri": "https://localhost:8080/"
        },
        "id": "9bwH_HEiUxbl",
        "outputId": "52e1d259-f7e9-4992-b624-4097ee7bfb3b"
      },
      "execution_count": null,
      "outputs": [
        {
          "output_type": "execute_result",
          "data": {
            "text/plain": [
              "['fy2018_Vendor_data.xlsx',\n",
              " 'fy2020_Vendor_data.xlsx',\n",
              " 'fy2017_Vendor_data.xlsx',\n",
              " 'fy2019_Vendor_data.xlsx',\n",
              " 'fy2016_Vendor_data.xlsx']"
            ]
          },
          "metadata": {},
          "execution_count": 62
        }
      ]
    },
    {
      "cell_type": "code",
      "source": [
        "# combines all the fiscal year's files into one dataframe\n",
        "all_files = pd.DataFrame()\n",
        "\n",
        "for file in v_files: \n",
        "  temp = read_files(file)\n",
        "  all_files = pd.concat([all_files, temp])\n",
        "\n",
        "all_files.head()"
      ],
      "metadata": {
        "colab": {
          "base_uri": "https://localhost:8080/",
          "height": 354
        },
        "id": "sXgZdC9BDUt1",
        "outputId": "ae16dba7-5e53-4284-ab08-88fec63c71c7"
      },
      "execution_count": null,
      "outputs": [
        {
          "output_type": "execute_result",
          "data": {
            "text/html": [
              "\n",
              "  <div id=\"df-83958472-9e73-4c82-9301-b9d833cc70ca\">\n",
              "    <div class=\"colab-df-container\">\n",
              "      <div>\n",
              "<style scoped>\n",
              "    .dataframe tbody tr th:only-of-type {\n",
              "        vertical-align: middle;\n",
              "    }\n",
              "\n",
              "    .dataframe tbody tr th {\n",
              "        vertical-align: top;\n",
              "    }\n",
              "\n",
              "    .dataframe thead th {\n",
              "        text-align: right;\n",
              "    }\n",
              "</style>\n",
              "<table border=\"1\" class=\"dataframe\">\n",
              "  <thead>\n",
              "    <tr style=\"text-align: right;\">\n",
              "      <th></th>\n",
              "      <th>DEPT CODE</th>\n",
              "      <th>FY</th>\n",
              "      <th>FUND</th>\n",
              "      <th>DEPT NAME</th>\n",
              "      <th>NAME</th>\n",
              "      <th>ALIAS</th>\n",
              "      <th>ADDRESS1</th>\n",
              "      <th>ADDRESS2</th>\n",
              "      <th>CITY</th>\n",
              "      <th>ST</th>\n",
              "      <th>ZIP</th>\n",
              "      <th>OBJ</th>\n",
              "      <th>OBJECT NAME</th>\n",
              "      <th>AMOUNT</th>\n",
              "    </tr>\n",
              "  </thead>\n",
              "  <tbody>\n",
              "    <tr>\n",
              "      <th>0</th>\n",
              "      <td>95F</td>\n",
              "      <td>2018</td>\n",
              "      <td>10</td>\n",
              "      <td>MAINE COMMISSION ON INDIGENT L</td>\n",
              "      <td>1820 LAW LLC</td>\n",
              "      <td>NaN</td>\n",
              "      <td>C/O 1820 LAW LLC</td>\n",
              "      <td>36 OSSIPEE TRAIL W</td>\n",
              "      <td>STANDISH</td>\n",
              "      <td>ME</td>\n",
              "      <td>04084</td>\n",
              "      <td>4040</td>\n",
              "      <td>COURT APPOINTED ATTORNEYS</td>\n",
              "      <td>-926.00</td>\n",
              "    </tr>\n",
              "    <tr>\n",
              "      <th>1</th>\n",
              "      <td>95F</td>\n",
              "      <td>2018</td>\n",
              "      <td>10</td>\n",
              "      <td>MAINE COMMISSION ON INDIGENT L</td>\n",
              "      <td>64 STATE ST LLC</td>\n",
              "      <td>NaN</td>\n",
              "      <td>C/O STEPHEN J BOURGET ESQ</td>\n",
              "      <td>64 STATE ST</td>\n",
              "      <td>AUGUSTA</td>\n",
              "      <td>ME</td>\n",
              "      <td>04330</td>\n",
              "      <td>4040</td>\n",
              "      <td>COURT APPOINTED ATTORNEYS</td>\n",
              "      <td>-113,598.54</td>\n",
              "    </tr>\n",
              "    <tr>\n",
              "      <th>2</th>\n",
              "      <td>95F</td>\n",
              "      <td>2018</td>\n",
              "      <td>10</td>\n",
              "      <td>MAINE COMMISSION ON INDIGENT L</td>\n",
              "      <td>AARON BLASCHKE ROWDEN ESQ</td>\n",
              "      <td>AARON BLASCHKE ROWDEN ESQ</td>\n",
              "      <td>PO BOX 2912</td>\n",
              "      <td>NaN</td>\n",
              "      <td>WATERVILLE</td>\n",
              "      <td>ME</td>\n",
              "      <td>04903</td>\n",
              "      <td>4040</td>\n",
              "      <td>COURT APPOINTED ATTORNEYS</td>\n",
              "      <td>-7,944.00</td>\n",
              "    </tr>\n",
              "    <tr>\n",
              "      <th>3</th>\n",
              "      <td>95F</td>\n",
              "      <td>2018</td>\n",
              "      <td>10</td>\n",
              "      <td>MAINE COMMISSION ON INDIGENT L</td>\n",
              "      <td>AARON FETHKE</td>\n",
              "      <td>NaN</td>\n",
              "      <td></td>\n",
              "      <td></td>\n",
              "      <td></td>\n",
              "      <td></td>\n",
              "      <td></td>\n",
              "      <td>4040</td>\n",
              "      <td>COURT APPOINTED ATTORNEYS</td>\n",
              "      <td>-6,131.75</td>\n",
              "    </tr>\n",
              "    <tr>\n",
              "      <th>4</th>\n",
              "      <td>95F</td>\n",
              "      <td>2018</td>\n",
              "      <td>10</td>\n",
              "      <td>MAINE COMMISSION ON INDIGENT L</td>\n",
              "      <td>AARON M FREY</td>\n",
              "      <td>NaN</td>\n",
              "      <td></td>\n",
              "      <td></td>\n",
              "      <td></td>\n",
              "      <td></td>\n",
              "      <td></td>\n",
              "      <td>4040</td>\n",
              "      <td>COURT APPOINTED ATTORNEYS</td>\n",
              "      <td>-59,642.11</td>\n",
              "    </tr>\n",
              "  </tbody>\n",
              "</table>\n",
              "</div>\n",
              "      <button class=\"colab-df-convert\" onclick=\"convertToInteractive('df-83958472-9e73-4c82-9301-b9d833cc70ca')\"\n",
              "              title=\"Convert this dataframe to an interactive table.\"\n",
              "              style=\"display:none;\">\n",
              "        \n",
              "  <svg xmlns=\"http://www.w3.org/2000/svg\" height=\"24px\"viewBox=\"0 0 24 24\"\n",
              "       width=\"24px\">\n",
              "    <path d=\"M0 0h24v24H0V0z\" fill=\"none\"/>\n",
              "    <path d=\"M18.56 5.44l.94 2.06.94-2.06 2.06-.94-2.06-.94-.94-2.06-.94 2.06-2.06.94zm-11 1L8.5 8.5l.94-2.06 2.06-.94-2.06-.94L8.5 2.5l-.94 2.06-2.06.94zm10 10l.94 2.06.94-2.06 2.06-.94-2.06-.94-.94-2.06-.94 2.06-2.06.94z\"/><path d=\"M17.41 7.96l-1.37-1.37c-.4-.4-.92-.59-1.43-.59-.52 0-1.04.2-1.43.59L10.3 9.45l-7.72 7.72c-.78.78-.78 2.05 0 2.83L4 21.41c.39.39.9.59 1.41.59.51 0 1.02-.2 1.41-.59l7.78-7.78 2.81-2.81c.8-.78.8-2.07 0-2.86zM5.41 20L4 18.59l7.72-7.72 1.47 1.35L5.41 20z\"/>\n",
              "  </svg>\n",
              "      </button>\n",
              "      \n",
              "  <style>\n",
              "    .colab-df-container {\n",
              "      display:flex;\n",
              "      flex-wrap:wrap;\n",
              "      gap: 12px;\n",
              "    }\n",
              "\n",
              "    .colab-df-convert {\n",
              "      background-color: #E8F0FE;\n",
              "      border: none;\n",
              "      border-radius: 50%;\n",
              "      cursor: pointer;\n",
              "      display: none;\n",
              "      fill: #1967D2;\n",
              "      height: 32px;\n",
              "      padding: 0 0 0 0;\n",
              "      width: 32px;\n",
              "    }\n",
              "\n",
              "    .colab-df-convert:hover {\n",
              "      background-color: #E2EBFA;\n",
              "      box-shadow: 0px 1px 2px rgba(60, 64, 67, 0.3), 0px 1px 3px 1px rgba(60, 64, 67, 0.15);\n",
              "      fill: #174EA6;\n",
              "    }\n",
              "\n",
              "    [theme=dark] .colab-df-convert {\n",
              "      background-color: #3B4455;\n",
              "      fill: #D2E3FC;\n",
              "    }\n",
              "\n",
              "    [theme=dark] .colab-df-convert:hover {\n",
              "      background-color: #434B5C;\n",
              "      box-shadow: 0px 1px 3px 1px rgba(0, 0, 0, 0.15);\n",
              "      filter: drop-shadow(0px 1px 2px rgba(0, 0, 0, 0.3));\n",
              "      fill: #FFFFFF;\n",
              "    }\n",
              "  </style>\n",
              "\n",
              "      <script>\n",
              "        const buttonEl =\n",
              "          document.querySelector('#df-83958472-9e73-4c82-9301-b9d833cc70ca button.colab-df-convert');\n",
              "        buttonEl.style.display =\n",
              "          google.colab.kernel.accessAllowed ? 'block' : 'none';\n",
              "\n",
              "        async function convertToInteractive(key) {\n",
              "          const element = document.querySelector('#df-83958472-9e73-4c82-9301-b9d833cc70ca');\n",
              "          const dataTable =\n",
              "            await google.colab.kernel.invokeFunction('convertToInteractive',\n",
              "                                                     [key], {});\n",
              "          if (!dataTable) return;\n",
              "\n",
              "          const docLinkHtml = 'Like what you see? Visit the ' +\n",
              "            '<a target=\"_blank\" href=https://colab.research.google.com/notebooks/data_table.ipynb>data table notebook</a>'\n",
              "            + ' to learn more about interactive tables.';\n",
              "          element.innerHTML = '';\n",
              "          dataTable['output_type'] = 'display_data';\n",
              "          await google.colab.output.renderOutput(dataTable, element);\n",
              "          const docLink = document.createElement('div');\n",
              "          docLink.innerHTML = docLinkHtml;\n",
              "          element.appendChild(docLink);\n",
              "        }\n",
              "      </script>\n",
              "    </div>\n",
              "  </div>\n",
              "  "
            ],
            "text/plain": [
              "  DEPT CODE    FY  FUND  ...   OBJ                     OBJECT NAME           AMOUNT\n",
              "0       95F  2018    10  ...  4040  COURT APPOINTED ATTORNEYS               -926.00\n",
              "1       95F  2018    10  ...  4040  COURT APPOINTED ATTORNEYS           -113,598.54\n",
              "2       95F  2018    10  ...  4040  COURT APPOINTED ATTORNEYS             -7,944.00\n",
              "3       95F  2018    10  ...  4040  COURT APPOINTED ATTORNEYS             -6,131.75\n",
              "4       95F  2018    10  ...  4040  COURT APPOINTED ATTORNEYS            -59,642.11\n",
              "\n",
              "[5 rows x 14 columns]"
            ]
          },
          "metadata": {},
          "execution_count": 63
        }
      ]
    },
    {
      "cell_type": "code",
      "source": [
        "# converts the amount column to numeric from object\n",
        "all_files['Amount1'] = all_files['AMOUNT']\n",
        "all_files['Amount1'] = pd.to_numeric(all_files['Amount1'], errors='coerce')\n",
        "all_files['AMOUNT'] = all_files['AMOUNT'].str.replace(\",\", \"\")\n",
        "all_files.loc[all_files['Amount1'].isna(), ['Amount1']]  = all_files.loc[all_files['Amount1'].isna()]['AMOUNT'] \n",
        "all_files['Amount2'] = pd.to_numeric(all_files['Amount1'], errors='ignore')"
      ],
      "metadata": {
        "id": "5bBqRWX61SvS"
      },
      "execution_count": null,
      "outputs": []
    },
    {
      "cell_type": "code",
      "source": [
        "cat = data_profiling(all_files['Amount2'])\n",
        "cat"
      ],
      "metadata": {
        "colab": {
          "base_uri": "https://localhost:8080/",
          "height": 238
        },
        "id": "ICAcOuCkgkAq",
        "outputId": "468b67d0-5a18-4631-846a-3daa09b3738a"
      },
      "execution_count": null,
      "outputs": [
        {
          "output_type": "execute_result",
          "data": {
            "text/html": [
              "\n",
              "  <div id=\"df-989ab236-f3da-434e-8e3b-fed36a876d9e\">\n",
              "    <div class=\"colab-df-container\">\n",
              "      <div>\n",
              "<style scoped>\n",
              "    .dataframe tbody tr th:only-of-type {\n",
              "        vertical-align: middle;\n",
              "    }\n",
              "\n",
              "    .dataframe tbody tr th {\n",
              "        vertical-align: top;\n",
              "    }\n",
              "\n",
              "    .dataframe thead th {\n",
              "        text-align: right;\n",
              "    }\n",
              "</style>\n",
              "<table border=\"1\" class=\"dataframe\">\n",
              "  <thead>\n",
              "    <tr style=\"text-align: right;\">\n",
              "      <th></th>\n",
              "      <th>Categories</th>\n",
              "      <th>Profile_Totals</th>\n",
              "    </tr>\n",
              "  </thead>\n",
              "  <tbody>\n",
              "    <tr>\n",
              "      <th>0</th>\n",
              "      <td>&gt;=50</td>\n",
              "      <td>194625</td>\n",
              "    </tr>\n",
              "    <tr>\n",
              "      <th>1</th>\n",
              "      <td>&gt;= 10 and &lt;= 49.99</td>\n",
              "      <td>63985</td>\n",
              "    </tr>\n",
              "    <tr>\n",
              "      <th>2</th>\n",
              "      <td>&gt;= 0.01 and &lt;= 9.99</td>\n",
              "      <td>15271</td>\n",
              "    </tr>\n",
              "    <tr>\n",
              "      <th>3</th>\n",
              "      <td>= 0</td>\n",
              "      <td>3044</td>\n",
              "    </tr>\n",
              "    <tr>\n",
              "      <th>4</th>\n",
              "      <td>&lt;= -0.01 and &lt;= -9.99</td>\n",
              "      <td>67917</td>\n",
              "    </tr>\n",
              "    <tr>\n",
              "      <th>5</th>\n",
              "      <td>&lt;= -10</td>\n",
              "      <td>67912</td>\n",
              "    </tr>\n",
              "  </tbody>\n",
              "</table>\n",
              "</div>\n",
              "      <button class=\"colab-df-convert\" onclick=\"convertToInteractive('df-989ab236-f3da-434e-8e3b-fed36a876d9e')\"\n",
              "              title=\"Convert this dataframe to an interactive table.\"\n",
              "              style=\"display:none;\">\n",
              "        \n",
              "  <svg xmlns=\"http://www.w3.org/2000/svg\" height=\"24px\"viewBox=\"0 0 24 24\"\n",
              "       width=\"24px\">\n",
              "    <path d=\"M0 0h24v24H0V0z\" fill=\"none\"/>\n",
              "    <path d=\"M18.56 5.44l.94 2.06.94-2.06 2.06-.94-2.06-.94-.94-2.06-.94 2.06-2.06.94zm-11 1L8.5 8.5l.94-2.06 2.06-.94-2.06-.94L8.5 2.5l-.94 2.06-2.06.94zm10 10l.94 2.06.94-2.06 2.06-.94-2.06-.94-.94-2.06-.94 2.06-2.06.94z\"/><path d=\"M17.41 7.96l-1.37-1.37c-.4-.4-.92-.59-1.43-.59-.52 0-1.04.2-1.43.59L10.3 9.45l-7.72 7.72c-.78.78-.78 2.05 0 2.83L4 21.41c.39.39.9.59 1.41.59.51 0 1.02-.2 1.41-.59l7.78-7.78 2.81-2.81c.8-.78.8-2.07 0-2.86zM5.41 20L4 18.59l7.72-7.72 1.47 1.35L5.41 20z\"/>\n",
              "  </svg>\n",
              "      </button>\n",
              "      \n",
              "  <style>\n",
              "    .colab-df-container {\n",
              "      display:flex;\n",
              "      flex-wrap:wrap;\n",
              "      gap: 12px;\n",
              "    }\n",
              "\n",
              "    .colab-df-convert {\n",
              "      background-color: #E8F0FE;\n",
              "      border: none;\n",
              "      border-radius: 50%;\n",
              "      cursor: pointer;\n",
              "      display: none;\n",
              "      fill: #1967D2;\n",
              "      height: 32px;\n",
              "      padding: 0 0 0 0;\n",
              "      width: 32px;\n",
              "    }\n",
              "\n",
              "    .colab-df-convert:hover {\n",
              "      background-color: #E2EBFA;\n",
              "      box-shadow: 0px 1px 2px rgba(60, 64, 67, 0.3), 0px 1px 3px 1px rgba(60, 64, 67, 0.15);\n",
              "      fill: #174EA6;\n",
              "    }\n",
              "\n",
              "    [theme=dark] .colab-df-convert {\n",
              "      background-color: #3B4455;\n",
              "      fill: #D2E3FC;\n",
              "    }\n",
              "\n",
              "    [theme=dark] .colab-df-convert:hover {\n",
              "      background-color: #434B5C;\n",
              "      box-shadow: 0px 1px 3px 1px rgba(0, 0, 0, 0.15);\n",
              "      filter: drop-shadow(0px 1px 2px rgba(0, 0, 0, 0.3));\n",
              "      fill: #FFFFFF;\n",
              "    }\n",
              "  </style>\n",
              "\n",
              "      <script>\n",
              "        const buttonEl =\n",
              "          document.querySelector('#df-989ab236-f3da-434e-8e3b-fed36a876d9e button.colab-df-convert');\n",
              "        buttonEl.style.display =\n",
              "          google.colab.kernel.accessAllowed ? 'block' : 'none';\n",
              "\n",
              "        async function convertToInteractive(key) {\n",
              "          const element = document.querySelector('#df-989ab236-f3da-434e-8e3b-fed36a876d9e');\n",
              "          const dataTable =\n",
              "            await google.colab.kernel.invokeFunction('convertToInteractive',\n",
              "                                                     [key], {});\n",
              "          if (!dataTable) return;\n",
              "\n",
              "          const docLinkHtml = 'Like what you see? Visit the ' +\n",
              "            '<a target=\"_blank\" href=https://colab.research.google.com/notebooks/data_table.ipynb>data table notebook</a>'\n",
              "            + ' to learn more about interactive tables.';\n",
              "          element.innerHTML = '';\n",
              "          dataTable['output_type'] = 'display_data';\n",
              "          await google.colab.output.renderOutput(dataTable, element);\n",
              "          const docLink = document.createElement('div');\n",
              "          docLink.innerHTML = docLinkHtml;\n",
              "          element.appendChild(docLink);\n",
              "        }\n",
              "      </script>\n",
              "    </div>\n",
              "  </div>\n",
              "  "
            ],
            "text/plain": [
              "              Categories  Profile_Totals\n",
              "0                   >=50          194625\n",
              "1     >= 10 and <= 49.99           63985\n",
              "2    >= 0.01 and <= 9.99           15271\n",
              "3                    = 0            3044\n",
              "4  <= -0.01 and <= -9.99           67917\n",
              "5                 <= -10           67912"
            ]
          },
          "metadata": {},
          "execution_count": 66
        }
      ]
    },
    {
      "cell_type": "code",
      "source": [
        "import matplotlib.pyplot as plt\n",
        "\n",
        "ax, fig = plt.subplots(figsize=(10, 5))\n",
        "_ = plt.bar(cat['Categories'], cat['Profile_Totals'])\n",
        "_ = plt.xticks(rotation=90)"
      ],
      "metadata": {
        "colab": {
          "base_uri": "https://localhost:8080/",
          "height": 426
        },
        "id": "qxrBNnT-bZIB",
        "outputId": "f560a375-14b6-4e28-df54-2926d60d2925"
      },
      "execution_count": null,
      "outputs": [
        {
          "output_type": "display_data",
          "data": {
            "image/png": "[encoded data removed]",
            "text/plain": [
              "<Figure size 720x360 with 1 Axes>"
            ]
          },
          "metadata": {
            "needs_background": "light"
          }
        }
      ]
    },
    {
      "cell_type": "code",
      "source": [
        "pay_years = all_files.groupby(['FY']).agg({'Amount2':'sum'}).reset_index()\n",
        "\n",
        "ax, fig = plt.subplots(figsize=(10, 5))\n",
        "_ = plt.bar(pay_years['FY'], pay_years['Amount2'])\n",
        "_ = plt.xticks(rotation=90)"
      ],
      "metadata": {
        "colab": {
          "base_uri": "https://localhost:8080/",
          "height": 346
        },
        "id": "eld2yWEHkr2U",
        "outputId": "939c812b-679f-4312-a0b1-bd25ba41e2da"
      },
      "execution_count": null,
      "outputs": [
        {
          "output_type": "display_data",
          "data": {
            "image/png": "[encoded data removed]",
            "text/plain": [
              "<Figure size 720x360 with 1 Axes>"
            ]
          },
          "metadata": {
            "needs_background": "light"
          }
        }
      ]
    },
    {
      "cell_type": "code",
      "source": [
        "all_files.loc[all_files['FY'] == 2018, 'Amount2'] = all_files.loc[all_files['FY'] == 2018]['Amount2'] * -1"
      ],
      "metadata": {
        "id": "YYksK8dfAStK"
      },
      "execution_count": null,
      "outputs": []
    },
    {
      "cell_type": "code",
      "source": [
        "pay_years = all_files.groupby(['FY']).agg({'Amount2':'sum'}).reset_index()\n",
        "ax, fig = plt.subplots(figsize=(10, 5))\n",
        "_ = plt.bar(pay_years['FY'], pay_years['Amount2'])\n",
        "_ = plt.xticks(rotation=90)"
      ],
      "metadata": {
        "colab": {
          "base_uri": "https://localhost:8080/",
          "height": 346
        },
        "id": "a2740EZFE5_f",
        "outputId": "c6386d30-c137-4112-adb2-e1f266e9e6ce"
      },
      "execution_count": null,
      "outputs": [
        {
          "output_type": "display_data",
          "data": {
            "image/png": "[encoded data removed]",
            "text/plain": [
              "<Figure size 720x360 with 1 Axes>"
            ]
          },
          "metadata": {
            "needs_background": "light"
          }
        }
      ]
    },
    {
      "cell_type": "code",
      "source": [
        "cat = data_profiling(all_files['Amount2'])\n",
        "cat"
      ],
      "metadata": {
        "colab": {
          "base_uri": "https://localhost:8080/",
          "height": 238
        },
        "id": "Tcde9WkfFLwI",
        "outputId": "b2073d8c-6fd1-4e85-9c82-ee0f956c01c7"
      },
      "execution_count": null,
      "outputs": [
        {
          "output_type": "execute_result",
          "data": {
            "text/html": [
              "\n",
              "  <div id=\"df-caf9eaca-633c-4552-b347-b2ace1aabbbf\">\n",
              "    <div class=\"colab-df-container\">\n",
              "      <div>\n",
              "<style scoped>\n",
              "    .dataframe tbody tr th:only-of-type {\n",
              "        vertical-align: middle;\n",
              "    }\n",
              "\n",
              "    .dataframe tbody tr th {\n",
              "        vertical-align: top;\n",
              "    }\n",
              "\n",
              "    .dataframe thead th {\n",
              "        text-align: right;\n",
              "    }\n",
              "</style>\n",
              "<table border=\"1\" class=\"dataframe\">\n",
              "  <thead>\n",
              "    <tr style=\"text-align: right;\">\n",
              "      <th></th>\n",
              "      <th>Categories</th>\n",
              "      <th>Profile_Totals</th>\n",
              "    </tr>\n",
              "  </thead>\n",
              "  <tbody>\n",
              "    <tr>\n",
              "      <th>0</th>\n",
              "      <td>&gt;=50</td>\n",
              "      <td>244396</td>\n",
              "    </tr>\n",
              "    <tr>\n",
              "      <th>1</th>\n",
              "      <td>&gt;= 10 and &lt;= 49.99</td>\n",
              "      <td>80197</td>\n",
              "    </tr>\n",
              "    <tr>\n",
              "      <th>2</th>\n",
              "      <td>&gt;= 0.01 and &lt;= 9.99</td>\n",
              "      <td>19065</td>\n",
              "    </tr>\n",
              "    <tr>\n",
              "      <th>3</th>\n",
              "      <td>= 0</td>\n",
              "      <td>3044</td>\n",
              "    </tr>\n",
              "    <tr>\n",
              "      <th>4</th>\n",
              "      <td>&lt;= -0.01 and &lt;= -9.99</td>\n",
              "      <td>1929</td>\n",
              "    </tr>\n",
              "    <tr>\n",
              "      <th>5</th>\n",
              "      <td>&lt;= -10</td>\n",
              "      <td>1929</td>\n",
              "    </tr>\n",
              "  </tbody>\n",
              "</table>\n",
              "</div>\n",
              "      <button class=\"colab-df-convert\" onclick=\"convertToInteractive('df-caf9eaca-633c-4552-b347-b2ace1aabbbf')\"\n",
              "              title=\"Convert this dataframe to an interactive table.\"\n",
              "              style=\"display:none;\">\n",
              "        \n",
              "  <svg xmlns=\"http://www.w3.org/2000/svg\" height=\"24px\"viewBox=\"0 0 24 24\"\n",
              "       width=\"24px\">\n",
              "    <path d=\"M0 0h24v24H0V0z\" fill=\"none\"/>\n",
              "    <path d=\"M18.56 5.44l.94 2.06.94-2.06 2.06-.94-2.06-.94-.94-2.06-.94 2.06-2.06.94zm-11 1L8.5 8.5l.94-2.06 2.06-.94-2.06-.94L8.5 2.5l-.94 2.06-2.06.94zm10 10l.94 2.06.94-2.06 2.06-.94-2.06-.94-.94-2.06-.94 2.06-2.06.94z\"/><path d=\"M17.41 7.96l-1.37-1.37c-.4-.4-.92-.59-1.43-.59-.52 0-1.04.2-1.43.59L10.3 9.45l-7.72 7.72c-.78.78-.78 2.05 0 2.83L4 21.41c.39.39.9.59 1.41.59.51 0 1.02-.2 1.41-.59l7.78-7.78 2.81-2.81c.8-.78.8-2.07 0-2.86zM5.41 20L4 18.59l7.72-7.72 1.47 1.35L5.41 20z\"/>\n",
              "  </svg>\n",
              "      </button>\n",
              "      \n",
              "  <style>\n",
              "    .colab-df-container {\n",
              "      display:flex;\n",
              "      flex-wrap:wrap;\n",
              "      gap: 12px;\n",
              "    }\n",
              "\n",
              "    .colab-df-convert {\n",
              "      background-color: #E8F0FE;\n",
              "      border: none;\n",
              "      border-radius: 50%;\n",
              "      cursor: pointer;\n",
              "      display: none;\n",
              "      fill: #1967D2;\n",
              "      height: 32px;\n",
              "      padding: 0 0 0 0;\n",
              "      width: 32px;\n",
              "    }\n",
              "\n",
              "    .colab-df-convert:hover {\n",
              "      background-color: #E2EBFA;\n",
              "      box-shadow: 0px 1px 2px rgba(60, 64, 67, 0.3), 0px 1px 3px 1px rgba(60, 64, 67, 0.15);\n",
              "      fill: #174EA6;\n",
              "    }\n",
              "\n",
              "    [theme=dark] .colab-df-convert {\n",
              "      background-color: #3B4455;\n",
              "      fill: #D2E3FC;\n",
              "    }\n",
              "\n",
              "    [theme=dark] .colab-df-convert:hover {\n",
              "      background-color: #434B5C;\n",
              "      box-shadow: 0px 1px 3px 1px rgba(0, 0, 0, 0.15);\n",
              "      filter: drop-shadow(0px 1px 2px rgba(0, 0, 0, 0.3));\n",
              "      fill: #FFFFFF;\n",
              "    }\n",
              "  </style>\n",
              "\n",
              "      <script>\n",
              "        const buttonEl =\n",
              "          document.querySelector('#df-caf9eaca-633c-4552-b347-b2ace1aabbbf button.colab-df-convert');\n",
              "        buttonEl.style.display =\n",
              "          google.colab.kernel.accessAllowed ? 'block' : 'none';\n",
              "\n",
              "        async function convertToInteractive(key) {\n",
              "          const element = document.querySelector('#df-caf9eaca-633c-4552-b347-b2ace1aabbbf');\n",
              "          const dataTable =\n",
              "            await google.colab.kernel.invokeFunction('convertToInteractive',\n",
              "                                                     [key], {});\n",
              "          if (!dataTable) return;\n",
              "\n",
              "          const docLinkHtml = 'Like what you see? Visit the ' +\n",
              "            '<a target=\"_blank\" href=https://colab.research.google.com/notebooks/data_table.ipynb>data table notebook</a>'\n",
              "            + ' to learn more about interactive tables.';\n",
              "          element.innerHTML = '';\n",
              "          dataTable['output_type'] = 'display_data';\n",
              "          await google.colab.output.renderOutput(dataTable, element);\n",
              "          const docLink = document.createElement('div');\n",
              "          docLink.innerHTML = docLinkHtml;\n",
              "          element.appendChild(docLink);\n",
              "        }\n",
              "      </script>\n",
              "    </div>\n",
              "  </div>\n",
              "  "
            ],
            "text/plain": [
              "              Categories  Profile_Totals\n",
              "0                   >=50          244396\n",
              "1     >= 10 and <= 49.99           80197\n",
              "2    >= 0.01 and <= 9.99           19065\n",
              "3                    = 0            3044\n",
              "4  <= -0.01 and <= -9.99            1929\n",
              "5                 <= -10            1929"
            ]
          },
          "metadata": {},
          "execution_count": 86
        }
      ]
    },
    {
      "cell_type": "code",
      "source": [
        "ax, fig = plt.subplots(figsize=(10, 5))\n",
        "_ = plt.bar(cat['Categories'], cat['Profile_Totals'])\n",
        "_ = plt.xticks(rotation=90)"
      ],
      "metadata": {
        "colab": {
          "base_uri": "https://localhost:8080/",
          "height": 426
        },
        "id": "oXNzhjj9G_IR",
        "outputId": "9c42770a-8e8f-4e87-8fec-3a27413e5277"
      },
      "execution_count": null,
      "outputs": [
        {
          "output_type": "display_data",
          "data": {
            "image/png": "[encoded data removed]",
            "text/plain": [
              "<Figure size 720x360 with 1 Axes>"
            ]
          },
          "metadata": {
            "needs_background": "light"
          }
        }
      ]
    }
  ]
}