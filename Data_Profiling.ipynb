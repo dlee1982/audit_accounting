{
  "nbformat": 4,
  "nbformat_minor": 0,
  "metadata": {
    "colab": {
      "name": "Data Profiling.ipynb",
      "provenance": [],
      "collapsed_sections": [],
      "authorship_tag": "ABX9TyOLXtnckFzsfmPTv7rs77S6",
      "include_colab_link": true
    },
    "kernelspec": {
      "name": "python3",
      "display_name": "Python 3"
    },
    "language_info": {
      "name": "python"
    }
  },
  "cells": [
    {
      "cell_type": "markdown",
      "metadata": {
        "id": "view-in-github",
        "colab_type": "text"
      },
      "source": [
        "<a href=\"https://colab.research.google.com/github/dlee1982/audit_accounting/blob/main/Data_Profiling.ipynb\" target=\"_parent\"><img src=\"https://colab.research.google.com/assets/colab-badge.svg\" alt=\"Open In Colab\"/></a>"
      ]
    },
    {
      "cell_type": "code",
      "execution_count": 2,
      "metadata": {
        "id": "ukQoTMbtsqEF"
      },
      "outputs": [],
      "source": [
        "import pandas as pd"
      ]
    },
    {
      "cell_type": "code",
      "source": [
        "def read_files(file_name): \n",
        "    \"\"\"\n",
        "    read in the workbooks individual worksheets and combine into one csv file\n",
        "    \"\"\"\n",
        "    \n",
        "    #reads in the current workbook and all the worksheets into a dictionary\n",
        "    cur_read_file = pd.read_excel(file_name, sheet_name=None)\n",
        "    combined_file = pd.DataFrame()\n",
        "    \n",
        "    #reads in each worksheets and combines into one workbook\n",
        "    for sheet in cur_read_file: \n",
        "        cur_sheet = cur_read_file[f'{sheet}']\n",
        "        combined_file = pd.concat([cur_sheet, combined_file])\n",
        "        \n",
        "    return combined_file "
      ],
      "metadata": {
        "id": "D92QtzRUtDtn"
      },
      "execution_count": 3,
      "outputs": []
    },
    {
      "cell_type": "code",
      "source": [
        "data_ = read_files('fy2016_Vendor_data.xlsx')"
      ],
      "metadata": {
        "id": "sXgZdC9BDUt1"
      },
      "execution_count": 4,
      "outputs": []
    },
    {
      "cell_type": "code",
      "source": [
        "def data_profiling(return_series: pd.Series): \n",
        "  \"\"\"\n",
        "  profiles the data into distinct categories: \n",
        "  1. >= 50\n",
        "  2. >= 10 and <= 49.99: greater than or equal to 10 and less than or equal to 49.99\n",
        "  3. >= 0.01 and <= 9.99 : greater than or equal to 0.01 and less than or equal ot 9.99\n",
        "  4. = 0 : equal to 0\n",
        "  5. <= -0.01 and <= -9.99 : less than or equal to -0.01 and less than or equal to -9.99\n",
        "  6. <= -10 : less than or equal to -10\n",
        "  \"\"\"\n",
        "  equal_50 = return_series[return_series >= 50].count()\n",
        "  equal_10_49 = return_series[(return_series >= 10) & (return_series <= 49.99)].count()\n",
        "  equal_1_9 = return_series[(return_series >= 0.01) & (return_series <= 9.99)].count() \n",
        "  equal_0 = return_series[return_series == 0].count()\n",
        "  equal_neg_9 = return_series[(return_series <= -0.01) & (return_series <= -9.99)].count()\n",
        "  equal_neg_10 = return_series[return_series <= -10].count()\n",
        "  totals = [equal_50, equal_10_49, equal_1_9, equal_0, equal_neg_9, equal_neg_10]\n",
        "  categories = ['>=50', '>= 10 and <= 49.99', '>= 0.01 and <= 9.99', '= 0', '<= -0.01 and <= -9.99', '<= -10']\n",
        "  return pd.DataFrame({'Categories': categories, 'Profile_Totals': totals})"
      ],
      "metadata": {
        "id": "Q1MbhzaGtwyN"
      },
      "execution_count": 5,
      "outputs": []
    },
    {
      "cell_type": "code",
      "source": [
        "data_profiling(data_['AMOUNT'])"
      ],
      "metadata": {
        "colab": {
          "base_uri": "https://localhost:8080/",
          "height": 238
        },
        "id": "VJSJT8Ob2avw",
        "outputId": "6a22c1a8-bafe-43fb-be0c-bc7fc78c502d"
      },
      "execution_count": 6,
      "outputs": [
        {
          "output_type": "execute_result",
          "data": {
            "text/html": [
              "\n",
              "  <div id=\"df-4e1c6f8b-73d5-47ee-81f1-6355ba45454a\">\n",
              "    <div class=\"colab-df-container\">\n",
              "      <div>\n",
              "<style scoped>\n",
              "    .dataframe tbody tr th:only-of-type {\n",
              "        vertical-align: middle;\n",
              "    }\n",
              "\n",
              "    .dataframe tbody tr th {\n",
              "        vertical-align: top;\n",
              "    }\n",
              "\n",
              "    .dataframe thead th {\n",
              "        text-align: right;\n",
              "    }\n",
              "</style>\n",
              "<table border=\"1\" class=\"dataframe\">\n",
              "  <thead>\n",
              "    <tr style=\"text-align: right;\">\n",
              "      <th></th>\n",
              "      <th>Categories</th>\n",
              "      <th>Profile_Totals</th>\n",
              "    </tr>\n",
              "  </thead>\n",
              "  <tbody>\n",
              "    <tr>\n",
              "      <th>0</th>\n",
              "      <td>&gt;=50</td>\n",
              "      <td>49115</td>\n",
              "    </tr>\n",
              "    <tr>\n",
              "      <th>1</th>\n",
              "      <td>&gt;= 10 and &lt;= 49.99</td>\n",
              "      <td>17309</td>\n",
              "    </tr>\n",
              "    <tr>\n",
              "      <th>2</th>\n",
              "      <td>&gt;= 0.01 and &lt;= 9.99</td>\n",
              "      <td>4007</td>\n",
              "    </tr>\n",
              "    <tr>\n",
              "      <th>3</th>\n",
              "      <td>= 0</td>\n",
              "      <td>735</td>\n",
              "    </tr>\n",
              "    <tr>\n",
              "      <th>4</th>\n",
              "      <td>&lt;= -0.01 and &lt;= -9.99</td>\n",
              "      <td>547</td>\n",
              "    </tr>\n",
              "    <tr>\n",
              "      <th>5</th>\n",
              "      <td>&lt;= -10</td>\n",
              "      <td>547</td>\n",
              "    </tr>\n",
              "  </tbody>\n",
              "</table>\n",
              "</div>\n",
              "      <button class=\"colab-df-convert\" onclick=\"convertToInteractive('df-4e1c6f8b-73d5-47ee-81f1-6355ba45454a')\"\n",
              "              title=\"Convert this dataframe to an interactive table.\"\n",
              "              style=\"display:none;\">\n",
              "        \n",
              "  <svg xmlns=\"http://www.w3.org/2000/svg\" height=\"24px\"viewBox=\"0 0 24 24\"\n",
              "       width=\"24px\">\n",
              "    <path d=\"M0 0h24v24H0V0z\" fill=\"none\"/>\n",
              "    <path d=\"M18.56 5.44l.94 2.06.94-2.06 2.06-.94-2.06-.94-.94-2.06-.94 2.06-2.06.94zm-11 1L8.5 8.5l.94-2.06 2.06-.94-2.06-.94L8.5 2.5l-.94 2.06-2.06.94zm10 10l.94 2.06.94-2.06 2.06-.94-2.06-.94-.94-2.06-.94 2.06-2.06.94z\"/><path d=\"M17.41 7.96l-1.37-1.37c-.4-.4-.92-.59-1.43-.59-.52 0-1.04.2-1.43.59L10.3 9.45l-7.72 7.72c-.78.78-.78 2.05 0 2.83L4 21.41c.39.39.9.59 1.41.59.51 0 1.02-.2 1.41-.59l7.78-7.78 2.81-2.81c.8-.78.8-2.07 0-2.86zM5.41 20L4 18.59l7.72-7.72 1.47 1.35L5.41 20z\"/>\n",
              "  </svg>\n",
              "      </button>\n",
              "      \n",
              "  <style>\n",
              "    .colab-df-container {\n",
              "      display:flex;\n",
              "      flex-wrap:wrap;\n",
              "      gap: 12px;\n",
              "    }\n",
              "\n",
              "    .colab-df-convert {\n",
              "      background-color: #E8F0FE;\n",
              "      border: none;\n",
              "      border-radius: 50%;\n",
              "      cursor: pointer;\n",
              "      display: none;\n",
              "      fill: #1967D2;\n",
              "      height: 32px;\n",
              "      padding: 0 0 0 0;\n",
              "      width: 32px;\n",
              "    }\n",
              "\n",
              "    .colab-df-convert:hover {\n",
              "      background-color: #E2EBFA;\n",
              "      box-shadow: 0px 1px 2px rgba(60, 64, 67, 0.3), 0px 1px 3px 1px rgba(60, 64, 67, 0.15);\n",
              "      fill: #174EA6;\n",
              "    }\n",
              "\n",
              "    [theme=dark] .colab-df-convert {\n",
              "      background-color: #3B4455;\n",
              "      fill: #D2E3FC;\n",
              "    }\n",
              "\n",
              "    [theme=dark] .colab-df-convert:hover {\n",
              "      background-color: #434B5C;\n",
              "      box-shadow: 0px 1px 3px 1px rgba(0, 0, 0, 0.15);\n",
              "      filter: drop-shadow(0px 1px 2px rgba(0, 0, 0, 0.3));\n",
              "      fill: #FFFFFF;\n",
              "    }\n",
              "  </style>\n",
              "\n",
              "      <script>\n",
              "        const buttonEl =\n",
              "          document.querySelector('#df-4e1c6f8b-73d5-47ee-81f1-6355ba45454a button.colab-df-convert');\n",
              "        buttonEl.style.display =\n",
              "          google.colab.kernel.accessAllowed ? 'block' : 'none';\n",
              "\n",
              "        async function convertToInteractive(key) {\n",
              "          const element = document.querySelector('#df-4e1c6f8b-73d5-47ee-81f1-6355ba45454a');\n",
              "          const dataTable =\n",
              "            await google.colab.kernel.invokeFunction('convertToInteractive',\n",
              "                                                     [key], {});\n",
              "          if (!dataTable) return;\n",
              "\n",
              "          const docLinkHtml = 'Like what you see? Visit the ' +\n",
              "            '<a target=\"_blank\" href=https://colab.research.google.com/notebooks/data_table.ipynb>data table notebook</a>'\n",
              "            + ' to learn more about interactive tables.';\n",
              "          element.innerHTML = '';\n",
              "          dataTable['output_type'] = 'display_data';\n",
              "          await google.colab.output.renderOutput(dataTable, element);\n",
              "          const docLink = document.createElement('div');\n",
              "          docLink.innerHTML = docLinkHtml;\n",
              "          element.appendChild(docLink);\n",
              "        }\n",
              "      </script>\n",
              "    </div>\n",
              "  </div>\n",
              "  "
            ],
            "text/plain": [
              "              Categories  Profile_Totals\n",
              "0                   >=50           49115\n",
              "1     >= 10 and <= 49.99           17309\n",
              "2    >= 0.01 and <= 9.99            4007\n",
              "3                    = 0             735\n",
              "4  <= -0.01 and <= -9.99             547\n",
              "5                 <= -10             547"
            ]
          },
          "metadata": {},
          "execution_count": 6
        }
      ]
    },
    {
      "cell_type": "code",
      "source": [
        ""
      ],
      "metadata": {
        "id": "z2-P-oOx7UYo"
      },
      "execution_count": null,
      "outputs": []
    }
  ]
}