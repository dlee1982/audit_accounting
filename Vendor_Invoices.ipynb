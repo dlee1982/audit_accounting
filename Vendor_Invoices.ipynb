{
  "cells": [
    {
      "cell_type": "markdown",
      "metadata": {
        "id": "view-in-github",
        "colab_type": "text"
      },
      "source": [
        "<a href=\"https://colab.research.google.com/github/dlee1982/audit_accounting/blob/main/Vendor_Invoices.ipynb\" target=\"_parent\"><img src=\"https://colab.research.google.com/assets/colab-badge.svg\" alt=\"Open In Colab\"/></a>"
      ]
    },
    {
      "cell_type": "markdown",
      "metadata": {
        "id": "xQA6is1Of3bl"
      },
      "source": [
        "https://www.maine.gov/osc/administration/data-share"
      ]
    },
    {
      "cell_type": "code",
      "execution_count": null,
      "metadata": {
        "id": "EYBKUFIHf3bp"
      },
      "outputs": [],
      "source": [
        "import pandas as pd\n",
        "import numpy as np\n",
        "import os\n",
        "import warnings\n",
        "warnings.filterwarnings(\"ignore\")"
      ]
    },
    {
      "cell_type": "code",
      "execution_count": null,
      "metadata": {
        "id": "_rUFwZ6qf3bs"
      },
      "outputs": [],
      "source": [
        "# obtain all the excel vendor file names\n",
        "files = os.listdir(r\"D:\\09. Personal Articles\\AP Articles\\Maine\\Data\")\n",
        "file_path = \"D:\\\\09. Personal Articles\\\\AP Articles\\\\Maine\\\\Data\""
      ]
    },
    {
      "cell_type": "code",
      "execution_count": null,
      "metadata": {
        "id": "mWUluH8Df3bt"
      },
      "outputs": [],
      "source": [
        "def read_files(file_name): \n",
        "    \"\"\"\n",
        "    read in the workbooks individual worksheets and combine into one csv file\n",
        "    \"\"\"\n",
        "    \n",
        "    #reads in the current workbook and all the worksheets into a dictionary\n",
        "    cur_read_file = pd.read_excel(file_path + \"\\\\\" + file_name, sheet_name=None)\n",
        "    combined_file = pd.DataFrame()\n",
        "    \n",
        "    #reads in each worksheets and combines into one workbook\n",
        "    for sheet in cur_read_file: \n",
        "        cur_sheet = cur_read_file[f'{sheet}']\n",
        "        combined_file = pd.concat([cur_sheet, combined_file])\n",
        "        \n",
        "    return combined_file "
      ]
    },
    {
      "cell_type": "code",
      "execution_count": null,
      "metadata": {
        "id": "PDRB9nAXf3bu"
      },
      "outputs": [],
      "source": [
        "# read in FY2016 vendor data \n",
        "fy2016 = read_files(files[0])"
      ]
    },
    {
      "cell_type": "code",
      "execution_count": null,
      "metadata": {
        "id": "_3jybgvZf3bu",
        "outputId": "513acdf6-963d-4291-f435-2a21b80c2ad2"
      },
      "outputs": [
        {
          "data": {
            "text/html": [
              "<div>\n",
              "<style scoped>\n",
              "    .dataframe tbody tr th:only-of-type {\n",
              "        vertical-align: middle;\n",
              "    }\n",
              "\n",
              "    .dataframe tbody tr th {\n",
              "        vertical-align: top;\n",
              "    }\n",
              "\n",
              "    .dataframe thead th {\n",
              "        text-align: right;\n",
              "    }\n",
              "</style>\n",
              "<table border=\"1\" class=\"dataframe\">\n",
              "  <thead>\n",
              "    <tr style=\"text-align: right;\">\n",
              "      <th></th>\n",
              "      <th>DEPT CODE</th>\n",
              "      <th>FY</th>\n",
              "      <th>FUND</th>\n",
              "      <th>DEPT NAME</th>\n",
              "      <th>NAME</th>\n",
              "      <th>ALIAS</th>\n",
              "      <th>ADDRESS1</th>\n",
              "      <th>ADDRESS2</th>\n",
              "      <th>CITY</th>\n",
              "      <th>ST</th>\n",
              "      <th>ZIP</th>\n",
              "      <th>OBJ</th>\n",
              "      <th>OBJECT NAME</th>\n",
              "      <th>AMOUNT</th>\n",
              "    </tr>\n",
              "  </thead>\n",
              "  <tbody>\n",
              "    <tr>\n",
              "      <th>0</th>\n",
              "      <td>95F</td>\n",
              "      <td>2016</td>\n",
              "      <td>10</td>\n",
              "      <td>MAINE COMMISSION ON INDIGENT L</td>\n",
              "      <td>64 STATE ST LLC</td>\n",
              "      <td>NaN</td>\n",
              "      <td>C/O STEPHEN J BOURGET ESQ</td>\n",
              "      <td>64 STATE ST</td>\n",
              "      <td>AUGUSTA</td>\n",
              "      <td>ME</td>\n",
              "      <td>04330</td>\n",
              "      <td>4040</td>\n",
              "      <td>COURT APPOINTED ATTORNEYS</td>\n",
              "      <td>102993.24</td>\n",
              "    </tr>\n",
              "    <tr>\n",
              "      <th>1</th>\n",
              "      <td>95F</td>\n",
              "      <td>2016</td>\n",
              "      <td>10</td>\n",
              "      <td>MAINE COMMISSION ON INDIGENT L</td>\n",
              "      <td>A-V TRONICS, INC</td>\n",
              "      <td>AVTRANZ</td>\n",
              "      <td>7227 NORTH 16TH ST SUITE 207</td>\n",
              "      <td>NaN</td>\n",
              "      <td>PHOENIX</td>\n",
              "      <td>AZ</td>\n",
              "      <td>85020</td>\n",
              "      <td>4930</td>\n",
              "      <td>TRANSCRIPTS</td>\n",
              "      <td>12630.08</td>\n",
              "    </tr>\n",
              "    <tr>\n",
              "      <th>2</th>\n",
              "      <td>95F</td>\n",
              "      <td>2016</td>\n",
              "      <td>10</td>\n",
              "      <td>MAINE COMMISSION ON INDIGENT L</td>\n",
              "      <td>A-V TRONICS, INC</td>\n",
              "      <td>AVTRANZ</td>\n",
              "      <td>845 N. 3RD AVE</td>\n",
              "      <td>NaN</td>\n",
              "      <td>PHOENIX</td>\n",
              "      <td>AZ</td>\n",
              "      <td>85003</td>\n",
              "      <td>4930</td>\n",
              "      <td>TRANSCRIPTS</td>\n",
              "      <td>18001.37</td>\n",
              "    </tr>\n",
              "    <tr>\n",
              "      <th>3</th>\n",
              "      <td>95F</td>\n",
              "      <td>2016</td>\n",
              "      <td>10</td>\n",
              "      <td>MAINE COMMISSION ON INDIGENT L</td>\n",
              "      <td>AARON FETHKE</td>\n",
              "      <td>NaN</td>\n",
              "      <td></td>\n",
              "      <td></td>\n",
              "      <td></td>\n",
              "      <td></td>\n",
              "      <td></td>\n",
              "      <td>4040</td>\n",
              "      <td>COURT APPOINTED ATTORNEYS</td>\n",
              "      <td>40426.50</td>\n",
              "    </tr>\n",
              "    <tr>\n",
              "      <th>4</th>\n",
              "      <td>95F</td>\n",
              "      <td>2016</td>\n",
              "      <td>10</td>\n",
              "      <td>MAINE COMMISSION ON INDIGENT L</td>\n",
              "      <td>AARON M FREY</td>\n",
              "      <td>NaN</td>\n",
              "      <td></td>\n",
              "      <td></td>\n",
              "      <td></td>\n",
              "      <td></td>\n",
              "      <td></td>\n",
              "      <td>4040</td>\n",
              "      <td>COURT APPOINTED ATTORNEYS</td>\n",
              "      <td>55953.12</td>\n",
              "    </tr>\n",
              "  </tbody>\n",
              "</table>\n",
              "</div>"
            ],
            "text/plain": [
              "  DEPT CODE    FY  FUND                       DEPT NAME  \\\n",
              "0       95F  2016    10  MAINE COMMISSION ON INDIGENT L   \n",
              "1       95F  2016    10  MAINE COMMISSION ON INDIGENT L   \n",
              "2       95F  2016    10  MAINE COMMISSION ON INDIGENT L   \n",
              "3       95F  2016    10  MAINE COMMISSION ON INDIGENT L   \n",
              "4       95F  2016    10  MAINE COMMISSION ON INDIGENT L   \n",
              "\n",
              "                             NAME                           ALIAS  \\\n",
              "0  64 STATE ST LLC                                            NaN   \n",
              "1  A-V TRONICS, INC                AVTRANZ                          \n",
              "2  A-V TRONICS, INC                AVTRANZ                          \n",
              "3  AARON FETHKE                                               NaN   \n",
              "4  AARON M FREY                                               NaN   \n",
              "\n",
              "                         ADDRESS1                        ADDRESS2  \\\n",
              "0  C/O STEPHEN J BOURGET ESQ       64 STATE ST                      \n",
              "1  7227 NORTH 16TH ST SUITE 207                               NaN   \n",
              "2  845 N. 3RD AVE                                             NaN   \n",
              "3                                                                   \n",
              "4                                                                   \n",
              "\n",
              "                 CITY  ST         ZIP   OBJ                     OBJECT NAME  \\\n",
              "0  AUGUSTA             ME  04330       4040  COURT APPOINTED ATTORNEYS        \n",
              "1  PHOENIX             AZ  85020       4930  TRANSCRIPTS                      \n",
              "2  PHOENIX             AZ  85003       4930  TRANSCRIPTS                      \n",
              "3                                      4040  COURT APPOINTED ATTORNEYS        \n",
              "4                                      4040  COURT APPOINTED ATTORNEYS        \n",
              "\n",
              "      AMOUNT  \n",
              "0  102993.24  \n",
              "1   12630.08  \n",
              "2   18001.37  \n",
              "3   40426.50  \n",
              "4   55953.12  "
            ]
          },
          "execution_count": 5,
          "metadata": {},
          "output_type": "execute_result"
        }
      ],
      "source": [
        "fy2016.head() # let's look at the first 5 rows of the FY2016 data"
      ]
    },
    {
      "cell_type": "markdown",
      "metadata": {
        "id": "0xbs4iGaf3bw"
      },
      "source": [
        "To learn more about the our imported vendor data, let's do some exploratory data analysis! "
      ]
    },
    {
      "cell_type": "code",
      "execution_count": null,
      "metadata": {
        "id": "Nqwu2rUCf3bw",
        "outputId": "4468115c-28d5-44af-86f1-cae56a12f4be"
      },
      "outputs": [
        {
          "data": {
            "text/plain": [
              "71759"
            ]
          },
          "execution_count": 6,
          "metadata": {},
          "output_type": "execute_result"
        }
      ],
      "source": [
        "# how many rows of data are we dealing with \n",
        "fy2016.shape[0] "
      ]
    },
    {
      "cell_type": "code",
      "execution_count": null,
      "metadata": {
        "id": "hyivdEzUf3bx",
        "outputId": "54bda44f-39d3-4fa2-9065-ad0a47321dd5"
      },
      "outputs": [
        {
          "data": {
            "text/html": [
              "<div>\n",
              "<style scoped>\n",
              "    .dataframe tbody tr th:only-of-type {\n",
              "        vertical-align: middle;\n",
              "    }\n",
              "\n",
              "    .dataframe tbody tr th {\n",
              "        vertical-align: top;\n",
              "    }\n",
              "\n",
              "    .dataframe thead th {\n",
              "        text-align: right;\n",
              "    }\n",
              "</style>\n",
              "<table border=\"1\" class=\"dataframe\">\n",
              "  <thead>\n",
              "    <tr style=\"text-align: right;\">\n",
              "      <th></th>\n",
              "      <th>DEPT CODE</th>\n",
              "      <th>DEPT NAME</th>\n",
              "      <th>Total_Transactions</th>\n",
              "    </tr>\n",
              "  </thead>\n",
              "  <tbody>\n",
              "    <tr>\n",
              "      <th>0</th>\n",
              "      <td>40A</td>\n",
              "      <td>JUDICIAL DEPT.</td>\n",
              "      <td>14323</td>\n",
              "    </tr>\n",
              "    <tr>\n",
              "      <th>1</th>\n",
              "      <td>10A</td>\n",
              "      <td>DEPT OF HUMAN SERVICES</td>\n",
              "      <td>13421</td>\n",
              "    </tr>\n",
              "    <tr>\n",
              "      <th>2</th>\n",
              "      <td>17A</td>\n",
              "      <td>TRANSPORTATION</td>\n",
              "      <td>6302</td>\n",
              "    </tr>\n",
              "    <tr>\n",
              "      <th>3</th>\n",
              "      <td>01A</td>\n",
              "      <td>AGRICULTURE</td>\n",
              "      <td>4904</td>\n",
              "    </tr>\n",
              "    <tr>\n",
              "      <th>4</th>\n",
              "      <td>16A</td>\n",
              "      <td>PUBLIC SAFETY</td>\n",
              "      <td>3061</td>\n",
              "    </tr>\n",
              "    <tr>\n",
              "      <th>5</th>\n",
              "      <td>09A</td>\n",
              "      <td>INLAND FISHERIES &amp; WILDLIFE</td>\n",
              "      <td>2885</td>\n",
              "    </tr>\n",
              "    <tr>\n",
              "      <th>6</th>\n",
              "      <td>12A</td>\n",
              "      <td>DEPT. OF LABOR</td>\n",
              "      <td>1799</td>\n",
              "    </tr>\n",
              "    <tr>\n",
              "      <th>7</th>\n",
              "      <td>05A</td>\n",
              "      <td>DEPT OF EDUCATION</td>\n",
              "      <td>1766</td>\n",
              "    </tr>\n",
              "    <tr>\n",
              "      <th>8</th>\n",
              "      <td>30A</td>\n",
              "      <td>LEGISLATURE</td>\n",
              "      <td>1565</td>\n",
              "    </tr>\n",
              "    <tr>\n",
              "      <th>9</th>\n",
              "      <td>03A</td>\n",
              "      <td>CORRECTIONS</td>\n",
              "      <td>1460</td>\n",
              "    </tr>\n",
              "  </tbody>\n",
              "</table>\n",
              "</div>"
            ],
            "text/plain": [
              "  DEPT CODE                       DEPT NAME  Total_Transactions\n",
              "0       40A  JUDICIAL DEPT.                               14323\n",
              "1       10A  DEPT OF HUMAN SERVICES                       13421\n",
              "2       17A  TRANSPORTATION                                6302\n",
              "3       01A  AGRICULTURE                                   4904\n",
              "4       16A  PUBLIC SAFETY                                 3061\n",
              "5       09A  INLAND FISHERIES & WILDLIFE                   2885\n",
              "6       12A  DEPT. OF LABOR                                1799\n",
              "7       05A  DEPT OF EDUCATION                             1766\n",
              "8       30A  LEGISLATURE                                   1565\n",
              "9       03A  CORRECTIONS                                   1460"
            ]
          },
          "execution_count": 7,
          "metadata": {},
          "output_type": "execute_result"
        }
      ],
      "source": [
        "# next, let's see the total number of different departments and how much they spent in FY 2016\n",
        "(fy2016[['DEPT CODE', 'DEPT NAME']]\n",
        " .value_counts()\n",
        " .reset_index()\n",
        " .rename(columns={0: 'Total_Transactions'})\n",
        " .head(10))"
      ]
    },
    {
      "cell_type": "code",
      "execution_count": null,
      "metadata": {
        "id": "b4zE6dfff3by",
        "outputId": "5f90cae0-5093-4057-c630-327be6d8bb5e"
      },
      "outputs": [
        {
          "data": {
            "text/html": [
              "<div>\n",
              "<style scoped>\n",
              "    .dataframe tbody tr th:only-of-type {\n",
              "        vertical-align: middle;\n",
              "    }\n",
              "\n",
              "    .dataframe tbody tr th {\n",
              "        vertical-align: top;\n",
              "    }\n",
              "\n",
              "    .dataframe thead th {\n",
              "        text-align: right;\n",
              "    }\n",
              "</style>\n",
              "<table border=\"1\" class=\"dataframe\">\n",
              "  <thead>\n",
              "    <tr style=\"text-align: right;\">\n",
              "      <th></th>\n",
              "      <th>DEPT CODE</th>\n",
              "      <th>DEPT NAME</th>\n",
              "      <th>AMOUNT</th>\n",
              "    </tr>\n",
              "  </thead>\n",
              "  <tbody>\n",
              "    <tr>\n",
              "      <th>0</th>\n",
              "      <td>17A</td>\n",
              "      <td>TRANSPORTATION</td>\n",
              "      <td>4.112826e+08</td>\n",
              "    </tr>\n",
              "    <tr>\n",
              "      <th>1</th>\n",
              "      <td>10A</td>\n",
              "      <td>DEPT OF HUMAN SERVICES</td>\n",
              "      <td>1.377166e+08</td>\n",
              "    </tr>\n",
              "    <tr>\n",
              "      <th>2</th>\n",
              "      <td>18S</td>\n",
              "      <td>STATE EMPLOYEE HEALTH COMM</td>\n",
              "      <td>7.262436e+07</td>\n",
              "    </tr>\n",
              "    <tr>\n",
              "      <th>3</th>\n",
              "      <td>03A</td>\n",
              "      <td>CORRECTIONS</td>\n",
              "      <td>3.888984e+07</td>\n",
              "    </tr>\n",
              "    <tr>\n",
              "      <th>4</th>\n",
              "      <td>01A</td>\n",
              "      <td>AGRICULTURE</td>\n",
              "      <td>2.383807e+07</td>\n",
              "    </tr>\n",
              "    <tr>\n",
              "      <th>5</th>\n",
              "      <td>15A</td>\n",
              "      <td>DEFENSE VETERANS &amp; EMERG MGMT</td>\n",
              "      <td>2.383438e+07</td>\n",
              "    </tr>\n",
              "    <tr>\n",
              "      <th>6</th>\n",
              "      <td>19A</td>\n",
              "      <td>ECONOMIC &amp; COMM. DEV.</td>\n",
              "      <td>2.085268e+07</td>\n",
              "    </tr>\n",
              "    <tr>\n",
              "      <th>7</th>\n",
              "      <td>05A</td>\n",
              "      <td>DEPT OF EDUCATION</td>\n",
              "      <td>1.958439e+07</td>\n",
              "    </tr>\n",
              "    <tr>\n",
              "      <th>8</th>\n",
              "      <td>16A</td>\n",
              "      <td>PUBLIC SAFETY</td>\n",
              "      <td>1.894651e+07</td>\n",
              "    </tr>\n",
              "    <tr>\n",
              "      <th>9</th>\n",
              "      <td>40A</td>\n",
              "      <td>JUDICIAL DEPT.</td>\n",
              "      <td>1.889068e+07</td>\n",
              "    </tr>\n",
              "  </tbody>\n",
              "</table>\n",
              "</div>"
            ],
            "text/plain": [
              "  DEPT CODE                       DEPT NAME        AMOUNT\n",
              "0       17A  TRANSPORTATION                  4.112826e+08\n",
              "1       10A  DEPT OF HUMAN SERVICES          1.377166e+08\n",
              "2       18S  STATE EMPLOYEE HEALTH COMM      7.262436e+07\n",
              "3       03A  CORRECTIONS                     3.888984e+07\n",
              "4       01A  AGRICULTURE                     2.383807e+07\n",
              "5       15A  DEFENSE VETERANS & EMERG MGMT   2.383438e+07\n",
              "6       19A  ECONOMIC & COMM. DEV.           2.085268e+07\n",
              "7       05A  DEPT OF EDUCATION               1.958439e+07\n",
              "8       16A  PUBLIC SAFETY                   1.894651e+07\n",
              "9       40A  JUDICIAL DEPT.                  1.889068e+07"
            ]
          },
          "execution_count": 8,
          "metadata": {},
          "output_type": "execute_result"
        }
      ],
      "source": [
        "# so we see that the Judicial Department has the most transactions in FY2016. But let's see which department spent the most in dollars\n",
        "(fy2016\n",
        " .groupby(['DEPT CODE', 'DEPT NAME'])\n",
        " .agg({'AMOUNT': 'sum'})\n",
        " .sort_values('AMOUNT', ascending=False)\n",
        " .reset_index()\n",
        " .head(10))"
      ]
    },
    {
      "cell_type": "code",
      "execution_count": null,
      "metadata": {
        "id": "OgtStEGUf3bz"
      },
      "outputs": [],
      "source": [
        "# let's merge the two dataframes so we can calculate the ratio of dollars to total number for transactions\n",
        "total_trans = (fy2016[['DEPT CODE', 'DEPT NAME']]\n",
        " .value_counts()\n",
        " .reset_index()\n",
        " .rename(columns={0: 'Total_Transactions'}))\n",
        "               \n",
        "total_dollars = (fy2016\n",
        " .groupby(['DEPT CODE', 'DEPT NAME'])\n",
        " .agg({'AMOUNT': 'sum'})\n",
        " .sort_values('AMOUNT', ascending=False)\n",
        " .reset_index())\n",
        "\n",
        "merged_df = total_trans.merge(total_dollars, on='DEPT CODE', suffixes=('_left', '_right'))"
      ]
    },
    {
      "cell_type": "code",
      "execution_count": null,
      "metadata": {
        "id": "IRy4t6ozf3b0",
        "outputId": "be2eb463-5340-41d2-f122-4f9389291303"
      },
      "outputs": [
        {
          "data": {
            "text/html": [
              "<div>\n",
              "<style scoped>\n",
              "    .dataframe tbody tr th:only-of-type {\n",
              "        vertical-align: middle;\n",
              "    }\n",
              "\n",
              "    .dataframe tbody tr th {\n",
              "        vertical-align: top;\n",
              "    }\n",
              "\n",
              "    .dataframe thead th {\n",
              "        text-align: right;\n",
              "    }\n",
              "</style>\n",
              "<table border=\"1\" class=\"dataframe\">\n",
              "  <thead>\n",
              "    <tr style=\"text-align: right;\">\n",
              "      <th></th>\n",
              "      <th>DEPT CODE</th>\n",
              "      <th>DEPT NAME_left</th>\n",
              "      <th>Total_Transactions</th>\n",
              "      <th>DEPT NAME_right</th>\n",
              "      <th>AMOUNT</th>\n",
              "    </tr>\n",
              "  </thead>\n",
              "  <tbody>\n",
              "    <tr>\n",
              "      <th>0</th>\n",
              "      <td>40A</td>\n",
              "      <td>JUDICIAL DEPT.</td>\n",
              "      <td>14323</td>\n",
              "      <td>JUDICIAL DEPT.</td>\n",
              "      <td>1.889068e+07</td>\n",
              "    </tr>\n",
              "    <tr>\n",
              "      <th>1</th>\n",
              "      <td>10A</td>\n",
              "      <td>DEPT OF HUMAN SERVICES</td>\n",
              "      <td>13421</td>\n",
              "      <td>DEPT OF HUMAN SERVICES</td>\n",
              "      <td>1.377166e+08</td>\n",
              "    </tr>\n",
              "    <tr>\n",
              "      <th>2</th>\n",
              "      <td>17A</td>\n",
              "      <td>TRANSPORTATION</td>\n",
              "      <td>6302</td>\n",
              "      <td>TRANSPORTATION</td>\n",
              "      <td>4.112826e+08</td>\n",
              "    </tr>\n",
              "    <tr>\n",
              "      <th>3</th>\n",
              "      <td>01A</td>\n",
              "      <td>AGRICULTURE</td>\n",
              "      <td>4904</td>\n",
              "      <td>AGRICULTURE</td>\n",
              "      <td>2.383807e+07</td>\n",
              "    </tr>\n",
              "    <tr>\n",
              "      <th>4</th>\n",
              "      <td>16A</td>\n",
              "      <td>PUBLIC SAFETY</td>\n",
              "      <td>3061</td>\n",
              "      <td>PUBLIC SAFETY</td>\n",
              "      <td>1.894651e+07</td>\n",
              "    </tr>\n",
              "  </tbody>\n",
              "</table>\n",
              "</div>"
            ],
            "text/plain": [
              "  DEPT CODE                  DEPT NAME_left  Total_Transactions  \\\n",
              "0       40A  JUDICIAL DEPT.                               14323   \n",
              "1       10A  DEPT OF HUMAN SERVICES                       13421   \n",
              "2       17A  TRANSPORTATION                                6302   \n",
              "3       01A  AGRICULTURE                                   4904   \n",
              "4       16A  PUBLIC SAFETY                                 3061   \n",
              "\n",
              "                  DEPT NAME_right        AMOUNT  \n",
              "0  JUDICIAL DEPT.                  1.889068e+07  \n",
              "1  DEPT OF HUMAN SERVICES          1.377166e+08  \n",
              "2  TRANSPORTATION                  4.112826e+08  \n",
              "3  AGRICULTURE                     2.383807e+07  \n",
              "4  PUBLIC SAFETY                   1.894651e+07  "
            ]
          },
          "execution_count": 10,
          "metadata": {},
          "output_type": "execute_result"
        }
      ],
      "source": [
        "merged_df.head() # displays the first 5 rows to make sure the merge executed correctly"
      ]
    },
    {
      "cell_type": "code",
      "execution_count": null,
      "metadata": {
        "id": "p95OuuuYf3b1",
        "outputId": "5e094919-c687-475e-8ae1-4d1abb1434f0"
      },
      "outputs": [
        {
          "data": {
            "text/html": [
              "<div>\n",
              "<style scoped>\n",
              "    .dataframe tbody tr th:only-of-type {\n",
              "        vertical-align: middle;\n",
              "    }\n",
              "\n",
              "    .dataframe tbody tr th {\n",
              "        vertical-align: top;\n",
              "    }\n",
              "\n",
              "    .dataframe thead th {\n",
              "        text-align: right;\n",
              "    }\n",
              "</style>\n",
              "<table border=\"1\" class=\"dataframe\">\n",
              "  <thead>\n",
              "    <tr style=\"text-align: right;\">\n",
              "      <th></th>\n",
              "      <th>DEPT CODE</th>\n",
              "      <th>DEPT NAME_left</th>\n",
              "      <th>Total_Transactions</th>\n",
              "      <th>DEPT NAME_right</th>\n",
              "      <th>AMOUNT</th>\n",
              "      <th>Ratio</th>\n",
              "    </tr>\n",
              "  </thead>\n",
              "  <tbody>\n",
              "    <tr>\n",
              "      <th>21</th>\n",
              "      <td>90C</td>\n",
              "      <td>WORKER'S COMPENSATION BOARD</td>\n",
              "      <td>689</td>\n",
              "      <td>WORKER'S COMPENSATION BOARD</td>\n",
              "      <td>449925.9</td>\n",
              "      <td>653.012917</td>\n",
              "    </tr>\n",
              "  </tbody>\n",
              "</table>\n",
              "</div>"
            ],
            "text/plain": [
              "   DEPT CODE                  DEPT NAME_left  Total_Transactions  \\\n",
              "21       90C  WORKER'S COMPENSATION BOARD                    689   \n",
              "\n",
              "                   DEPT NAME_right    AMOUNT       Ratio  \n",
              "21  WORKER'S COMPENSATION BOARD     449925.9  653.012917  "
            ]
          },
          "execution_count": 11,
          "metadata": {},
          "output_type": "execute_result"
        }
      ],
      "source": [
        "# calculates the ratio of total dollars to total transactions for each vendor\n",
        "(merged_df\n",
        " .assign(Ratio = merged_df['AMOUNT']/merged_df['Total_Transactions'])\n",
        " .query('(Total_Transactions > 500) & (Ratio < 1000)')\n",
        " .sort_values('Ratio')\n",
        " .head(10))"
      ]
    },
    {
      "cell_type": "code",
      "execution_count": null,
      "metadata": {
        "id": "kwdpZTmQf3b1",
        "outputId": "8c4ae7af-3099-44f9-d405-d6f5ecaa4da9"
      },
      "outputs": [
        {
          "data": {
            "text/html": [
              "<div>\n",
              "<style scoped>\n",
              "    .dataframe tbody tr th:only-of-type {\n",
              "        vertical-align: middle;\n",
              "    }\n",
              "\n",
              "    .dataframe tbody tr th {\n",
              "        vertical-align: top;\n",
              "    }\n",
              "\n",
              "    .dataframe thead th {\n",
              "        text-align: right;\n",
              "    }\n",
              "</style>\n",
              "<table border=\"1\" class=\"dataframe\">\n",
              "  <thead>\n",
              "    <tr style=\"text-align: right;\">\n",
              "      <th></th>\n",
              "      <th>DEPT CODE</th>\n",
              "      <th>FY</th>\n",
              "      <th>FUND</th>\n",
              "      <th>DEPT NAME</th>\n",
              "      <th>NAME</th>\n",
              "      <th>ALIAS</th>\n",
              "      <th>ADDRESS1</th>\n",
              "      <th>ADDRESS2</th>\n",
              "      <th>CITY</th>\n",
              "      <th>ST</th>\n",
              "      <th>ZIP</th>\n",
              "      <th>OBJ</th>\n",
              "      <th>OBJECT NAME</th>\n",
              "      <th>AMOUNT</th>\n",
              "    </tr>\n",
              "  </thead>\n",
              "  <tbody>\n",
              "    <tr>\n",
              "      <th>0</th>\n",
              "      <td>90C</td>\n",
              "      <td>2016</td>\n",
              "      <td>14</td>\n",
              "      <td>WORKER'S COMPENSATION BOARD</td>\n",
              "      <td>ACADIA FOOT &amp; ANKLE PA</td>\n",
              "      <td>NaN</td>\n",
              "      <td>33 PENN PLAZA STE A</td>\n",
              "      <td>NaN</td>\n",
              "      <td>BANGOR</td>\n",
              "      <td>ME</td>\n",
              "      <td>04401</td>\n",
              "      <td>4095</td>\n",
              "      <td>MEDICAL REPORTS</td>\n",
              "      <td>150.00</td>\n",
              "    </tr>\n",
              "    <tr>\n",
              "      <th>1</th>\n",
              "      <td>90C</td>\n",
              "      <td>2016</td>\n",
              "      <td>14</td>\n",
              "      <td>WORKER'S COMPENSATION BOARD</td>\n",
              "      <td>ACADIA HOSPITAL</td>\n",
              "      <td>NaN</td>\n",
              "      <td>268 STILLWATER AVE</td>\n",
              "      <td>NaN</td>\n",
              "      <td>BANGOR</td>\n",
              "      <td>ME</td>\n",
              "      <td>04401</td>\n",
              "      <td>4095</td>\n",
              "      <td>MEDICAL REPORTS</td>\n",
              "      <td>15.35</td>\n",
              "    </tr>\n",
              "    <tr>\n",
              "      <th>2</th>\n",
              "      <td>90C</td>\n",
              "      <td>2016</td>\n",
              "      <td>14</td>\n",
              "      <td>WORKER'S COMPENSATION BOARD</td>\n",
              "      <td>ACUPUNCTURE &amp; HERBAL CLINIC</td>\n",
              "      <td>C/O RENCHI ZHANG</td>\n",
              "      <td>4 SHEFFIELD ST</td>\n",
              "      <td>NaN</td>\n",
              "      <td>PORTLAND</td>\n",
              "      <td>ME</td>\n",
              "      <td>04102</td>\n",
              "      <td>4095</td>\n",
              "      <td>MEDICAL REPORTS</td>\n",
              "      <td>8.60</td>\n",
              "    </tr>\n",
              "    <tr>\n",
              "      <th>3</th>\n",
              "      <td>90C</td>\n",
              "      <td>2016</td>\n",
              "      <td>14</td>\n",
              "      <td>WORKER'S COMPENSATION BOARD</td>\n",
              "      <td>ADVANTAGE MEDICAL BILLING SOL.</td>\n",
              "      <td>NaN</td>\n",
              "      <td>C/O LINDA SACCO</td>\n",
              "      <td>387 LAFAYETTE RD   SUITE 204/2</td>\n",
              "      <td>HAMPTON</td>\n",
              "      <td>NH</td>\n",
              "      <td>03842</td>\n",
              "      <td>4095</td>\n",
              "      <td>MEDICAL REPORTS</td>\n",
              "      <td>6.35</td>\n",
              "    </tr>\n",
              "    <tr>\n",
              "      <th>4</th>\n",
              "      <td>90C</td>\n",
              "      <td>2016</td>\n",
              "      <td>14</td>\n",
              "      <td>WORKER'S COMPENSATION BOARD</td>\n",
              "      <td>ALICE L YELL</td>\n",
              "      <td>NaN</td>\n",
              "      <td></td>\n",
              "      <td></td>\n",
              "      <td></td>\n",
              "      <td></td>\n",
              "      <td></td>\n",
              "      <td>4881</td>\n",
              "      <td>ST SHARE LENSES VDT OPERATOR</td>\n",
              "      <td>150.00</td>\n",
              "    </tr>\n",
              "  </tbody>\n",
              "</table>\n",
              "</div>"
            ],
            "text/plain": [
              "  DEPT CODE    FY  FUND                       DEPT NAME  \\\n",
              "0       90C  2016    14  WORKER'S COMPENSATION BOARD      \n",
              "1       90C  2016    14  WORKER'S COMPENSATION BOARD      \n",
              "2       90C  2016    14  WORKER'S COMPENSATION BOARD      \n",
              "3       90C  2016    14  WORKER'S COMPENSATION BOARD      \n",
              "4       90C  2016    14  WORKER'S COMPENSATION BOARD      \n",
              "\n",
              "                             NAME                           ALIAS  \\\n",
              "0  ACADIA FOOT & ANKLE PA                                     NaN   \n",
              "1  ACADIA HOSPITAL                                            NaN   \n",
              "2  ACUPUNCTURE & HERBAL CLINIC     C/O RENCHI ZHANG                 \n",
              "3  ADVANTAGE MEDICAL BILLING SOL.                             NaN   \n",
              "4  ALICE L YELL                                               NaN   \n",
              "\n",
              "                         ADDRESS1                        ADDRESS2  \\\n",
              "0  33 PENN PLAZA STE A                                        NaN   \n",
              "1  268 STILLWATER AVE                                         NaN   \n",
              "2  4 SHEFFIELD ST                                             NaN   \n",
              "3  C/O LINDA SACCO                 387 LAFAYETTE RD   SUITE 204/2   \n",
              "4                                                                   \n",
              "\n",
              "                 CITY  ST         ZIP   OBJ                     OBJECT NAME  \\\n",
              "0  BANGOR              ME  04401       4095  MEDICAL REPORTS                  \n",
              "1  BANGOR              ME  04401       4095  MEDICAL REPORTS                  \n",
              "2  PORTLAND            ME  04102       4095  MEDICAL REPORTS                  \n",
              "3  HAMPTON             NH  03842       4095  MEDICAL REPORTS                  \n",
              "4                                      4881  ST SHARE LENSES VDT OPERATOR     \n",
              "\n",
              "   AMOUNT  \n",
              "0  150.00  \n",
              "1   15.35  \n",
              "2    8.60  \n",
              "3    6.35  \n",
              "4  150.00  "
            ]
          },
          "execution_count": 12,
          "metadata": {},
          "output_type": "execute_result"
        }
      ],
      "source": [
        "# based on our analysis, it appears that the Worker's Compensation Board, Department 90C, has the lowest ratio that has over 500 transactions\n",
        "work_comp16 = fy2016[fy2016['DEPT CODE']== \"90C\"]\n",
        "work_comp16.head()"
      ]
    },
    {
      "cell_type": "code",
      "execution_count": null,
      "metadata": {
        "id": "STwoupawf3b2",
        "outputId": "e3f0c436-0f29-4b08-93d0-7c78405af568"
      },
      "outputs": [
        {
          "data": {
            "text/plain": [
              "PAUL J FORTIER                    13\n",
              "PAUL H SIGHINOLFI                 13\n",
              "GORDON DAVIS                      11\n",
              "CHRISTOPHER J COTNOIR             10\n",
              "THOMAS J PELLETIER                 8\n",
              "Name: NAME, dtype: int64"
            ]
          },
          "execution_count": 13,
          "metadata": {},
          "output_type": "execute_result"
        }
      ],
      "source": [
        "# let's try to understand why department 90C has the lowest ratio\n",
        "work_comp16['NAME'].value_counts().head()"
      ]
    },
    {
      "cell_type": "code",
      "execution_count": null,
      "metadata": {
        "id": "uWewX_8Sf3b3",
        "outputId": "cc627655-1c75-4752-8397-0a712276d915"
      },
      "outputs": [
        {
          "data": {
            "text/plain": [
              "MEDICAL REPORTS                   317\n",
              "AUTO MILEAGE-GEN IN STATE          66\n",
              "MEALS AND GRATUITIES               36\n",
              "OTHER TRANSPORTATION               28\n",
              "DUES                               27\n",
              "Name: OBJECT NAME, dtype: int64"
            ]
          },
          "execution_count": 14,
          "metadata": {},
          "output_type": "execute_result"
        }
      ],
      "source": [
        "work_comp16['OBJECT NAME'].value_counts().head()"
      ]
    },
    {
      "cell_type": "code",
      "execution_count": null,
      "metadata": {
        "id": "kzeKAnD4f3b4",
        "outputId": "d4e0f131-190b-4311-ec2e-23b2bfee4b39"
      },
      "outputs": [
        {
          "data": {
            "text/html": [
              "<div>\n",
              "<style scoped>\n",
              "    .dataframe tbody tr th:only-of-type {\n",
              "        vertical-align: middle;\n",
              "    }\n",
              "\n",
              "    .dataframe tbody tr th {\n",
              "        vertical-align: top;\n",
              "    }\n",
              "\n",
              "    .dataframe thead th {\n",
              "        text-align: right;\n",
              "    }\n",
              "</style>\n",
              "<table border=\"1\" class=\"dataframe\">\n",
              "  <thead>\n",
              "    <tr style=\"text-align: right;\">\n",
              "      <th></th>\n",
              "      <th>DEPT CODE</th>\n",
              "      <th>FY</th>\n",
              "      <th>FUND</th>\n",
              "      <th>DEPT NAME</th>\n",
              "      <th>NAME</th>\n",
              "      <th>ALIAS</th>\n",
              "      <th>ADDRESS1</th>\n",
              "      <th>ADDRESS2</th>\n",
              "      <th>CITY</th>\n",
              "      <th>ST</th>\n",
              "      <th>ZIP</th>\n",
              "      <th>OBJ</th>\n",
              "      <th>OBJECT NAME</th>\n",
              "      <th>AMOUNT</th>\n",
              "    </tr>\n",
              "  </thead>\n",
              "  <tbody>\n",
              "    <tr>\n",
              "      <th>0</th>\n",
              "      <td>90C</td>\n",
              "      <td>2016</td>\n",
              "      <td>14</td>\n",
              "      <td>WORKER'S COMPENSATION BOARD</td>\n",
              "      <td>ACADIA FOOT &amp; ANKLE PA</td>\n",
              "      <td>NaN</td>\n",
              "      <td>33 PENN PLAZA STE A</td>\n",
              "      <td>NaN</td>\n",
              "      <td>BANGOR</td>\n",
              "      <td>ME</td>\n",
              "      <td>04401</td>\n",
              "      <td>4095</td>\n",
              "      <td>MEDICAL REPORTS</td>\n",
              "      <td>150.00</td>\n",
              "    </tr>\n",
              "    <tr>\n",
              "      <th>1</th>\n",
              "      <td>90C</td>\n",
              "      <td>2016</td>\n",
              "      <td>14</td>\n",
              "      <td>WORKER'S COMPENSATION BOARD</td>\n",
              "      <td>ACADIA HOSPITAL</td>\n",
              "      <td>NaN</td>\n",
              "      <td>268 STILLWATER AVE</td>\n",
              "      <td>NaN</td>\n",
              "      <td>BANGOR</td>\n",
              "      <td>ME</td>\n",
              "      <td>04401</td>\n",
              "      <td>4095</td>\n",
              "      <td>MEDICAL REPORTS</td>\n",
              "      <td>15.35</td>\n",
              "    </tr>\n",
              "    <tr>\n",
              "      <th>2</th>\n",
              "      <td>90C</td>\n",
              "      <td>2016</td>\n",
              "      <td>14</td>\n",
              "      <td>WORKER'S COMPENSATION BOARD</td>\n",
              "      <td>ACUPUNCTURE &amp; HERBAL CLINIC</td>\n",
              "      <td>C/O RENCHI ZHANG</td>\n",
              "      <td>4 SHEFFIELD ST</td>\n",
              "      <td>NaN</td>\n",
              "      <td>PORTLAND</td>\n",
              "      <td>ME</td>\n",
              "      <td>04102</td>\n",
              "      <td>4095</td>\n",
              "      <td>MEDICAL REPORTS</td>\n",
              "      <td>8.60</td>\n",
              "    </tr>\n",
              "    <tr>\n",
              "      <th>3</th>\n",
              "      <td>90C</td>\n",
              "      <td>2016</td>\n",
              "      <td>14</td>\n",
              "      <td>WORKER'S COMPENSATION BOARD</td>\n",
              "      <td>ADVANTAGE MEDICAL BILLING SOL.</td>\n",
              "      <td>NaN</td>\n",
              "      <td>C/O LINDA SACCO</td>\n",
              "      <td>387 LAFAYETTE RD   SUITE 204/2</td>\n",
              "      <td>HAMPTON</td>\n",
              "      <td>NH</td>\n",
              "      <td>03842</td>\n",
              "      <td>4095</td>\n",
              "      <td>MEDICAL REPORTS</td>\n",
              "      <td>6.35</td>\n",
              "    </tr>\n",
              "    <tr>\n",
              "      <th>5</th>\n",
              "      <td>90C</td>\n",
              "      <td>2016</td>\n",
              "      <td>14</td>\n",
              "      <td>WORKER'S COMPENSATION BOARD</td>\n",
              "      <td>ALLERGY &amp; ASTHMA ASSOC OF ME</td>\n",
              "      <td>NaN</td>\n",
              "      <td>195 FORE RIVER PKWY SUITE 410</td>\n",
              "      <td>NaN</td>\n",
              "      <td>PORTLAND</td>\n",
              "      <td>ME</td>\n",
              "      <td>04102</td>\n",
              "      <td>4095</td>\n",
              "      <td>MEDICAL REPORTS</td>\n",
              "      <td>16.30</td>\n",
              "    </tr>\n",
              "  </tbody>\n",
              "</table>\n",
              "</div>"
            ],
            "text/plain": [
              "  DEPT CODE    FY  FUND                       DEPT NAME  \\\n",
              "0       90C  2016    14  WORKER'S COMPENSATION BOARD      \n",
              "1       90C  2016    14  WORKER'S COMPENSATION BOARD      \n",
              "2       90C  2016    14  WORKER'S COMPENSATION BOARD      \n",
              "3       90C  2016    14  WORKER'S COMPENSATION BOARD      \n",
              "5       90C  2016    14  WORKER'S COMPENSATION BOARD      \n",
              "\n",
              "                             NAME                           ALIAS  \\\n",
              "0  ACADIA FOOT & ANKLE PA                                     NaN   \n",
              "1  ACADIA HOSPITAL                                            NaN   \n",
              "2  ACUPUNCTURE & HERBAL CLINIC     C/O RENCHI ZHANG                 \n",
              "3  ADVANTAGE MEDICAL BILLING SOL.                             NaN   \n",
              "5  ALLERGY & ASTHMA ASSOC OF ME                               NaN   \n",
              "\n",
              "                         ADDRESS1                        ADDRESS2  \\\n",
              "0  33 PENN PLAZA STE A                                        NaN   \n",
              "1  268 STILLWATER AVE                                         NaN   \n",
              "2  4 SHEFFIELD ST                                             NaN   \n",
              "3  C/O LINDA SACCO                 387 LAFAYETTE RD   SUITE 204/2   \n",
              "5  195 FORE RIVER PKWY SUITE 410                              NaN   \n",
              "\n",
              "                 CITY  ST         ZIP   OBJ      OBJECT NAME  AMOUNT  \n",
              "0  BANGOR              ME  04401       4095  MEDICAL REPORTS  150.00  \n",
              "1  BANGOR              ME  04401       4095  MEDICAL REPORTS   15.35  \n",
              "2  PORTLAND            ME  04102       4095  MEDICAL REPORTS    8.60  \n",
              "3  HAMPTON             NH  03842       4095  MEDICAL REPORTS    6.35  \n",
              "5  PORTLAND            ME  04102       4095  MEDICAL REPORTS   16.30  "
            ]
          },
          "execution_count": 15,
          "metadata": {},
          "output_type": "execute_result"
        }
      ],
      "source": [
        "work_comp16['OBJECT NAME'] = work_comp16['OBJECT NAME'].str.strip()\n",
        "work_comp16[work_comp16['OBJECT NAME'] == \"MEDICAL REPORTS\"].head()"
      ]
    },
    {
      "cell_type": "code",
      "execution_count": null,
      "metadata": {
        "id": "fL4hWAvKf3b5",
        "outputId": "520f3d6e-c97c-40a2-d3f1-731c6f3671f4"
      },
      "outputs": [
        {
          "data": {
            "text/plain": [
              "count     317.000000\n",
              "mean      122.726309\n",
              "std       351.400249\n",
              "min       -32.500000\n",
              "25%        14.050000\n",
              "50%        29.750000\n",
              "75%        72.600000\n",
              "max      3222.600000\n",
              "Name: AMOUNT, dtype: float64"
            ]
          },
          "execution_count": 16,
          "metadata": {},
          "output_type": "execute_result"
        }
      ],
      "source": [
        "work_comp = work_comp16['OBJECT NAME']\n",
        "work_comp16[work_comp == \"MEDICAL REPORTS\"]['AMOUNT'].describe()"
      ]
    },
    {
      "cell_type": "code",
      "execution_count": null,
      "metadata": {
        "id": "Q2JgRnSJf3b5",
        "outputId": "a21b88ed-89d1-44bc-f9bd-a95ecee253f7"
      },
      "outputs": [
        {
          "data": {
            "text/plain": [
              "<AxesSubplot:ylabel='Frequency'>"
            ]
          },
          "execution_count": 17,
          "metadata": {},
          "output_type": "execute_result"
        },
        {
          "data": {
            "image/png": "[encoded data removed]",
            "text/plain": [
              "<Figure size 720x360 with 1 Axes>"
            ]
          },
          "metadata": {
            "needs_background": "light"
          },
          "output_type": "display_data"
        }
      ],
      "source": [
        "work_comp16[work_comp == \"MEDICAL REPORTS\"]['AMOUNT'].plot(kind='hist', figsize=(10, 5))"
      ]
    },
    {
      "cell_type": "code",
      "execution_count": null,
      "metadata": {
        "id": "waxukKa7f3b6",
        "outputId": "b40c5b9b-0126-466b-d3c6-28ed7bb3b298"
      },
      "outputs": [
        {
          "data": {
            "text/plain": [
              "<AxesSubplot:xlabel='AMOUNT', ylabel='FY'>"
            ]
          },
          "execution_count": 18,
          "metadata": {},
          "output_type": "execute_result"
        },
        {
          "data": {
            "image/png": "[encoded data removed]",
            "text/plain": [
              "<Figure size 720x360 with 1 Axes>"
            ]
          },
          "metadata": {
            "needs_background": "light"
          },
          "output_type": "display_data"
        }
      ],
      "source": [
        "work_comp16[work_comp == \"MEDICAL REPORTS\"].plot(kind='scatter', x='AMOUNT', y='FY', figsize=(10, 5))"
      ]
    },
    {
      "cell_type": "code",
      "execution_count": null,
      "metadata": {
        "id": "pNfdlfWtf3b7"
      },
      "outputs": [],
      "source": [
        ""
      ]
    }
  ],
  "metadata": {
    "kernelspec": {
      "display_name": "Python 3",
      "language": "python",
      "name": "python3"
    },
    "language_info": {
      "codemirror_mode": {
        "name": "ipython",
        "version": 3
      },
      "file_extension": ".py",
      "mimetype": "text/x-python",
      "name": "python",
      "nbconvert_exporter": "python",
      "pygments_lexer": "ipython3",
      "version": "3.8.5"
    },
    "colab": {
      "name": "Vendor Invoices.ipynb",
      "provenance": [],
      "include_colab_link": true
    }
  },
  "nbformat": 4,
  "nbformat_minor": 0
}